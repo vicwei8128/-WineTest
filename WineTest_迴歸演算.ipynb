{
 "cells": [
  {
   "cell_type": "markdown",
   "metadata": {},
   "source": [
    "# Polynomial Regression  \n",
    "dataset description: https://archive.ics.uci.edu/ml/datasets/wine+quality  "
   ]
  },
  {
   "cell_type": "code",
   "execution_count": 2,
   "metadata": {},
   "outputs": [
    {
     "name": "stdout",
     "output_type": "stream",
     "text": [
      "Coefficients: [-1.27373174e+10 -1.75028464e+01 -1.85820902e+02 -8.55086594e+01\n",
      " -6.90228310e+00 -1.44450006e+03 -7.90155599e+00  1.62610293e+00\n",
      " -1.59354196e+04 -4.84259416e+02  2.65283840e+02 -9.94732875e+00\n",
      " -2.35631578e-02  1.25051637e+00 -8.42684657e-02 -7.82811320e-02\n",
      " -1.21199290e+00 -7.61545746e-03 -4.60148702e-04  1.85971312e+01\n",
      " -6.75687784e-01  2.48541482e-01  1.21977887e-01  1.71630541e+00\n",
      " -9.81991159e-01 -1.05772503e+00  4.96207857e+00  8.74036460e-02\n",
      " -2.90710969e-03  1.81138660e+02 -7.82869087e+00 -2.36737164e+00\n",
      "  1.95429576e+00 -7.90299265e-01  8.18618388e-02  2.84055837e+00\n",
      "  9.14920806e-02 -2.81153355e-02  9.98933238e+01 -3.20299797e+00\n",
      " -2.47119109e+00 -1.17210549e-01 -4.37759385e-02 -1.60645774e+00\n",
      "  9.92632737e-04 -1.67738463e-03  1.26664494e+01 -5.64772168e-01\n",
      " -3.39357608e-01 -1.76043658e-01  2.89674851e+00 -2.59251852e-01\n",
      "  1.68704433e-01  1.46082448e+03 -4.10154998e+00  1.55276482e+00\n",
      "  2.14145500e-01  3.29176971e-04 -7.42660762e-04  8.25768581e+00\n",
      " -1.28577700e-01 -5.01296717e-02  1.80870784e-02  1.92110158e-04\n",
      " -1.65443278e+00  7.16219077e-03  8.74911142e-03 -2.36304320e-03\n",
      "  6.97838302e+03  5.02514801e+02 -2.69003496e+02  6.53491599e+00\n",
      " -8.87604233e-01  4.04255899e+00  1.11469466e-02 -1.95336535e+00\n",
      " -4.80979777e-01  1.03278071e-01]\n",
      "\n",
      "Mean squared error: 0.8292494801231594\n",
      "R2 score: -0.36245965742507646\n"
     ]
    }
   ],
   "source": [
    "import numpy as np\n",
    "from sklearn.model_selection import train_test_split\n",
    "import pandas as pd\n",
    "from sklearn import linear_model\n",
    "from sklearn import preprocessing\n",
    "from sklearn.preprocessing import PolynomialFeatures\n",
    "from sklearn.metrics import mean_squared_error, r2_score\n",
    "\n",
    "## 1. 使用pandas讀取 winequality-red.csv\n",
    "df = pd.read_csv('./dataset/winequality-red.csv')\n",
    "\n",
    "## 2.定義特徵向量X以及label y\n",
    "y = df['quality']\n",
    "X = df.drop('quality',axis=1)\n",
    "\n",
    "## 3.使用PolynomialFeatures將維度提高(假設degree=2)\n",
    "poly = PolynomialFeatures(degree=2).fit(X)\n",
    "X = poly.transform(X)\n",
    "\n",
    "\n",
    "X_train,X_test,y_train,y_test=train_test_split(X,y,test_size=0.3,random_state=1) #random_state 種子值\n",
    "\n",
    "\n",
    "## 4.標準化訓練資料\n",
    "\n",
    "model = linear_model.LinearRegression()\n",
    "model.fit(X_train, y_train)\n",
    "\n",
    "## 5.標準化測試資料\n",
    "y_pred = model.predict(X_test)\n",
    "\n",
    "# The coefficients\n",
    "print('Coefficients: {}\\n'.format(model.coef_))\n",
    "# The mean squared error\n",
    "print(\"Mean squared error: {}\".format(mean_squared_error(y_test, y_pred)))\n",
    "# Explained variance score: 1 is perfect prediction\n",
    "print('R2 score: {}'.format(r2_score(y_test, y_pred)))"
   ]
  },
  {
   "cell_type": "code",
   "execution_count": null,
   "metadata": {},
   "outputs": [],
   "source": []
  },
  {
   "cell_type": "code",
   "execution_count": null,
   "metadata": {},
   "outputs": [],
   "source": []
  }
 ],
 "metadata": {
  "kernelspec": {
   "display_name": "Python 3 (ipykernel)",
   "language": "python",
   "name": "python3"
  },
  "language_info": {
   "codemirror_mode": {
    "name": "ipython",
    "version": 3
   },
   "file_extension": ".py",
   "mimetype": "text/x-python",
   "name": "python",
   "nbconvert_exporter": "python",
   "pygments_lexer": "ipython3",
   "version": "3.8.12"
  }
 },
 "nbformat": 4,
 "nbformat_minor": 2
}
